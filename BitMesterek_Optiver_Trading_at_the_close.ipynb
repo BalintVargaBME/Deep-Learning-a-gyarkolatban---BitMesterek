{
  "nbformat": 4,
  "nbformat_minor": 0,
  "metadata": {
    "colab": {
      "provenance": [],
      "include_colab_link": true
    },
    "kernelspec": {
      "name": "python3",
      "display_name": "Python 3"
    },
    "language_info": {
      "name": "python"
    }
  },
  "cells": [
    {
      "cell_type": "markdown",
      "metadata": {
        "id": "view-in-github",
        "colab_type": "text"
      },
      "source": [
        "<a href=\"https://colab.research.google.com/github/BalintVargaBME/Deep-Learning-a-gyarkolatban---BitMesterek/blob/main/BitMesterek_Optiver_Trading_at_the_close.ipynb\" target=\"_parent\"><img src=\"https://colab.research.google.com/assets/colab-badge.svg\" alt=\"Open In Colab\"/></a>"
      ]
    },
    {
      "cell_type": "code",
      "execution_count": null,
      "metadata": {
        "id": "MWF0D3t5_Wxo"
      },
      "outputs": [],
      "source": [
        "#VB\n",
        "# Import libraries\n",
        "import pandas as pd\n",
        "import os\n",
        "import zipfile\n",
        "import numpy as np\n",
        "import random\n",
        "from lightgbm import LGBMRegressor\n",
        "from sklearn.metrics import mean_absolute_error\n",
        "from sklearn.model_selection import train_test_split"
      ]
    },
    {
      "cell_type": "code",
      "source": [
        "#VB\n",
        "# Mount drive to colab\n",
        "from google.colab import drive\n",
        "drive.mount('/content/drive')"
      ],
      "metadata": {
        "colab": {
          "base_uri": "https://localhost:8080/"
        },
        "id": "klruvZKRCKkR",
        "outputId": "0a8effd1-6e35-48a4-dba9-ed2b4e89d1e2"
      },
      "execution_count": null,
      "outputs": [
        {
          "output_type": "stream",
          "name": "stdout",
          "text": [
            "Mounted at /content/drive\n"
          ]
        }
      ]
    },
    {
      "cell_type": "code",
      "source": [
        "#VB\n",
        "# Navigate to working directory\n",
        "# Change to your own Drive directory after MyDrive/\n",
        "\n",
        "%cd /content/drive/MyDrive/Deep Learning a gyakorlatban/Nagy házi/\n",
        "\n",
        "# Telling Kaggle where to find the API key, needed for dowloading dataset, change to your own directory after MyDrive/\n",
        "os.environ['KAGGLE_CONFIG_DIR'] = \"/content/drive/MyDrive/Deep Learning a gyakorlatban/Nagy házi\""
      ],
      "metadata": {
        "colab": {
          "base_uri": "https://localhost:8080/"
        },
        "id": "Wcasjs8hCROj",
        "outputId": "fc3ea187-ef8a-4699-e939-90d98f9b4bb6"
      },
      "execution_count": null,
      "outputs": [
        {
          "output_type": "stream",
          "name": "stdout",
          "text": [
            "[Errno 2] No such file or directory: '/content/drive/MyDrive/Deep Learning a gyakorlatban/Nagy házi/'\n",
            "/content\n"
          ]
        }
      ]
    },
    {
      "cell_type": "code",
      "source": [
        "#VB\n",
        "# Commented out so Colab won't download each time when all cells are run\n",
        "\n",
        "# Download data from Kaggle\n",
        "# !kaggle competitions download -c optiver-trading-at-the-close"
      ],
      "metadata": {
        "id": "3G__JhZjAH02"
      },
      "execution_count": null,
      "outputs": []
    },
    {
      "cell_type": "code",
      "source": [
        "#VB\n",
        "\n",
        "# Commented out so Colab won't download each time when all cells are run\n",
        "# Unzip, then delete file\n",
        "'''\n",
        "for file in os.listdir():\n",
        "    if file.endswith(\".zip\"):\n",
        "        with zipfile.ZipFile(file, \"r\") as zip_file:\n",
        "            zip_file.extractall()\n",
        "        os.remove(file)\n",
        "'''\n",
        "# List files in working directory\n",
        "%ls"
      ],
      "metadata": {
        "colab": {
          "base_uri": "https://localhost:8080/"
        },
        "id": "j3hUrr3vD9Go",
        "outputId": "12f8f71d-0f11-42a0-bd9d-25e9d1203013"
      },
      "execution_count": null,
      "outputs": [
        {
          "output_type": "stream",
          "name": "stdout",
          "text": [
            "'BitMesterek - Optiver: Trading at the close.ipynb'   \u001b[0m\u001b[01;34moptiver2023\u001b[0m/\n",
            " \u001b[01;34mexample_test_files\u001b[0m/                                  public_timeseries_testing_util.py\n",
            " kaggle.json                                          train.csv\n"
          ]
        }
      ]
    },
    {
      "cell_type": "code",
      "source": [
        "#VB\n",
        "import_data = pd.read_csv ('train.csv')\n",
        "import_data.head()"
      ],
      "metadata": {
        "colab": {
          "base_uri": "https://localhost:8080/",
          "height": 206
        },
        "id": "DZ9DyY8DFZda",
        "outputId": "cd8fea27-adc6-4405-a489-5e89ab9527d3"
      },
      "execution_count": null,
      "outputs": [
        {
          "output_type": "execute_result",
          "data": {
            "text/plain": [
              "   stock_id  date_id  seconds_in_bucket  imbalance_size  \\\n",
              "0         0        0                  0      3180602.69   \n",
              "1         1        0                  0       166603.91   \n",
              "2         2        0                  0       302879.87   \n",
              "3         3        0                  0     11917682.27   \n",
              "4         4        0                  0       447549.96   \n",
              "\n",
              "   imbalance_buy_sell_flag  reference_price  matched_size  far_price  \\\n",
              "0                        1         0.999812   13380276.64        NaN   \n",
              "1                       -1         0.999896    1642214.25        NaN   \n",
              "2                       -1         0.999561    1819368.03        NaN   \n",
              "3                       -1         1.000171   18389745.62        NaN   \n",
              "4                       -1         0.999532   17860614.95        NaN   \n",
              "\n",
              "   near_price  bid_price  bid_size  ask_price   ask_size  wap    target  \\\n",
              "0         NaN   0.999812  60651.50   1.000026    8493.03  1.0 -3.029704   \n",
              "1         NaN   0.999896   3233.04   1.000660   20605.09  1.0 -5.519986   \n",
              "2         NaN   0.999403  37956.00   1.000298   18995.00  1.0 -8.389950   \n",
              "3         NaN   0.999999   2324.90   1.000214  479032.40  1.0 -4.010200   \n",
              "4         NaN   0.999394  16485.54   1.000016     434.10  1.0 -7.349849   \n",
              "\n",
              "   time_id row_id  \n",
              "0        0  0_0_0  \n",
              "1        0  0_0_1  \n",
              "2        0  0_0_2  \n",
              "3        0  0_0_3  \n",
              "4        0  0_0_4  "
            ],
            "text/html": [
              "\n",
              "  <div id=\"df-1782c01c-7cb5-4ba6-b322-f1148f76c0c9\" class=\"colab-df-container\">\n",
              "    <div>\n",
              "<style scoped>\n",
              "    .dataframe tbody tr th:only-of-type {\n",
              "        vertical-align: middle;\n",
              "    }\n",
              "\n",
              "    .dataframe tbody tr th {\n",
              "        vertical-align: top;\n",
              "    }\n",
              "\n",
              "    .dataframe thead th {\n",
              "        text-align: right;\n",
              "    }\n",
              "</style>\n",
              "<table border=\"1\" class=\"dataframe\">\n",
              "  <thead>\n",
              "    <tr style=\"text-align: right;\">\n",
              "      <th></th>\n",
              "      <th>stock_id</th>\n",
              "      <th>date_id</th>\n",
              "      <th>seconds_in_bucket</th>\n",
              "      <th>imbalance_size</th>\n",
              "      <th>imbalance_buy_sell_flag</th>\n",
              "      <th>reference_price</th>\n",
              "      <th>matched_size</th>\n",
              "      <th>far_price</th>\n",
              "      <th>near_price</th>\n",
              "      <th>bid_price</th>\n",
              "      <th>bid_size</th>\n",
              "      <th>ask_price</th>\n",
              "      <th>ask_size</th>\n",
              "      <th>wap</th>\n",
              "      <th>target</th>\n",
              "      <th>time_id</th>\n",
              "      <th>row_id</th>\n",
              "    </tr>\n",
              "  </thead>\n",
              "  <tbody>\n",
              "    <tr>\n",
              "      <th>0</th>\n",
              "      <td>0</td>\n",
              "      <td>0</td>\n",
              "      <td>0</td>\n",
              "      <td>3180602.69</td>\n",
              "      <td>1</td>\n",
              "      <td>0.999812</td>\n",
              "      <td>13380276.64</td>\n",
              "      <td>NaN</td>\n",
              "      <td>NaN</td>\n",
              "      <td>0.999812</td>\n",
              "      <td>60651.50</td>\n",
              "      <td>1.000026</td>\n",
              "      <td>8493.03</td>\n",
              "      <td>1.0</td>\n",
              "      <td>-3.029704</td>\n",
              "      <td>0</td>\n",
              "      <td>0_0_0</td>\n",
              "    </tr>\n",
              "    <tr>\n",
              "      <th>1</th>\n",
              "      <td>1</td>\n",
              "      <td>0</td>\n",
              "      <td>0</td>\n",
              "      <td>166603.91</td>\n",
              "      <td>-1</td>\n",
              "      <td>0.999896</td>\n",
              "      <td>1642214.25</td>\n",
              "      <td>NaN</td>\n",
              "      <td>NaN</td>\n",
              "      <td>0.999896</td>\n",
              "      <td>3233.04</td>\n",
              "      <td>1.000660</td>\n",
              "      <td>20605.09</td>\n",
              "      <td>1.0</td>\n",
              "      <td>-5.519986</td>\n",
              "      <td>0</td>\n",
              "      <td>0_0_1</td>\n",
              "    </tr>\n",
              "    <tr>\n",
              "      <th>2</th>\n",
              "      <td>2</td>\n",
              "      <td>0</td>\n",
              "      <td>0</td>\n",
              "      <td>302879.87</td>\n",
              "      <td>-1</td>\n",
              "      <td>0.999561</td>\n",
              "      <td>1819368.03</td>\n",
              "      <td>NaN</td>\n",
              "      <td>NaN</td>\n",
              "      <td>0.999403</td>\n",
              "      <td>37956.00</td>\n",
              "      <td>1.000298</td>\n",
              "      <td>18995.00</td>\n",
              "      <td>1.0</td>\n",
              "      <td>-8.389950</td>\n",
              "      <td>0</td>\n",
              "      <td>0_0_2</td>\n",
              "    </tr>\n",
              "    <tr>\n",
              "      <th>3</th>\n",
              "      <td>3</td>\n",
              "      <td>0</td>\n",
              "      <td>0</td>\n",
              "      <td>11917682.27</td>\n",
              "      <td>-1</td>\n",
              "      <td>1.000171</td>\n",
              "      <td>18389745.62</td>\n",
              "      <td>NaN</td>\n",
              "      <td>NaN</td>\n",
              "      <td>0.999999</td>\n",
              "      <td>2324.90</td>\n",
              "      <td>1.000214</td>\n",
              "      <td>479032.40</td>\n",
              "      <td>1.0</td>\n",
              "      <td>-4.010200</td>\n",
              "      <td>0</td>\n",
              "      <td>0_0_3</td>\n",
              "    </tr>\n",
              "    <tr>\n",
              "      <th>4</th>\n",
              "      <td>4</td>\n",
              "      <td>0</td>\n",
              "      <td>0</td>\n",
              "      <td>447549.96</td>\n",
              "      <td>-1</td>\n",
              "      <td>0.999532</td>\n",
              "      <td>17860614.95</td>\n",
              "      <td>NaN</td>\n",
              "      <td>NaN</td>\n",
              "      <td>0.999394</td>\n",
              "      <td>16485.54</td>\n",
              "      <td>1.000016</td>\n",
              "      <td>434.10</td>\n",
              "      <td>1.0</td>\n",
              "      <td>-7.349849</td>\n",
              "      <td>0</td>\n",
              "      <td>0_0_4</td>\n",
              "    </tr>\n",
              "  </tbody>\n",
              "</table>\n",
              "</div>\n",
              "    <div class=\"colab-df-buttons\">\n",
              "\n",
              "  <div class=\"colab-df-container\">\n",
              "    <button class=\"colab-df-convert\" onclick=\"convertToInteractive('df-1782c01c-7cb5-4ba6-b322-f1148f76c0c9')\"\n",
              "            title=\"Convert this dataframe to an interactive table.\"\n",
              "            style=\"display:none;\">\n",
              "\n",
              "  <svg xmlns=\"http://www.w3.org/2000/svg\" height=\"24px\" viewBox=\"0 -960 960 960\">\n",
              "    <path d=\"M120-120v-720h720v720H120Zm60-500h600v-160H180v160Zm220 220h160v-160H400v160Zm0 220h160v-160H400v160ZM180-400h160v-160H180v160Zm440 0h160v-160H620v160ZM180-180h160v-160H180v160Zm440 0h160v-160H620v160Z\"/>\n",
              "  </svg>\n",
              "    </button>\n",
              "\n",
              "  <style>\n",
              "    .colab-df-container {\n",
              "      display:flex;\n",
              "      gap: 12px;\n",
              "    }\n",
              "\n",
              "    .colab-df-convert {\n",
              "      background-color: #E8F0FE;\n",
              "      border: none;\n",
              "      border-radius: 50%;\n",
              "      cursor: pointer;\n",
              "      display: none;\n",
              "      fill: #1967D2;\n",
              "      height: 32px;\n",
              "      padding: 0 0 0 0;\n",
              "      width: 32px;\n",
              "    }\n",
              "\n",
              "    .colab-df-convert:hover {\n",
              "      background-color: #E2EBFA;\n",
              "      box-shadow: 0px 1px 2px rgba(60, 64, 67, 0.3), 0px 1px 3px 1px rgba(60, 64, 67, 0.15);\n",
              "      fill: #174EA6;\n",
              "    }\n",
              "\n",
              "    .colab-df-buttons div {\n",
              "      margin-bottom: 4px;\n",
              "    }\n",
              "\n",
              "    [theme=dark] .colab-df-convert {\n",
              "      background-color: #3B4455;\n",
              "      fill: #D2E3FC;\n",
              "    }\n",
              "\n",
              "    [theme=dark] .colab-df-convert:hover {\n",
              "      background-color: #434B5C;\n",
              "      box-shadow: 0px 1px 3px 1px rgba(0, 0, 0, 0.15);\n",
              "      filter: drop-shadow(0px 1px 2px rgba(0, 0, 0, 0.3));\n",
              "      fill: #FFFFFF;\n",
              "    }\n",
              "  </style>\n",
              "\n",
              "    <script>\n",
              "      const buttonEl =\n",
              "        document.querySelector('#df-1782c01c-7cb5-4ba6-b322-f1148f76c0c9 button.colab-df-convert');\n",
              "      buttonEl.style.display =\n",
              "        google.colab.kernel.accessAllowed ? 'block' : 'none';\n",
              "\n",
              "      async function convertToInteractive(key) {\n",
              "        const element = document.querySelector('#df-1782c01c-7cb5-4ba6-b322-f1148f76c0c9');\n",
              "        const dataTable =\n",
              "          await google.colab.kernel.invokeFunction('convertToInteractive',\n",
              "                                                    [key], {});\n",
              "        if (!dataTable) return;\n",
              "\n",
              "        const docLinkHtml = 'Like what you see? Visit the ' +\n",
              "          '<a target=\"_blank\" href=https://colab.research.google.com/notebooks/data_table.ipynb>data table notebook</a>'\n",
              "          + ' to learn more about interactive tables.';\n",
              "        element.innerHTML = '';\n",
              "        dataTable['output_type'] = 'display_data';\n",
              "        await google.colab.output.renderOutput(dataTable, element);\n",
              "        const docLink = document.createElement('div');\n",
              "        docLink.innerHTML = docLinkHtml;\n",
              "        element.appendChild(docLink);\n",
              "      }\n",
              "    </script>\n",
              "  </div>\n",
              "\n",
              "\n",
              "<div id=\"df-b1fe9159-cdc1-4b12-8a29-2bd47640826c\">\n",
              "  <button class=\"colab-df-quickchart\" onclick=\"quickchart('df-b1fe9159-cdc1-4b12-8a29-2bd47640826c')\"\n",
              "            title=\"Suggest charts.\"\n",
              "            style=\"display:none;\">\n",
              "\n",
              "<svg xmlns=\"http://www.w3.org/2000/svg\" height=\"24px\"viewBox=\"0 0 24 24\"\n",
              "     width=\"24px\">\n",
              "    <g>\n",
              "        <path d=\"M19 3H5c-1.1 0-2 .9-2 2v14c0 1.1.9 2 2 2h14c1.1 0 2-.9 2-2V5c0-1.1-.9-2-2-2zM9 17H7v-7h2v7zm4 0h-2V7h2v10zm4 0h-2v-4h2v4z\"/>\n",
              "    </g>\n",
              "</svg>\n",
              "  </button>\n",
              "\n",
              "<style>\n",
              "  .colab-df-quickchart {\n",
              "      --bg-color: #E8F0FE;\n",
              "      --fill-color: #1967D2;\n",
              "      --hover-bg-color: #E2EBFA;\n",
              "      --hover-fill-color: #174EA6;\n",
              "      --disabled-fill-color: #AAA;\n",
              "      --disabled-bg-color: #DDD;\n",
              "  }\n",
              "\n",
              "  [theme=dark] .colab-df-quickchart {\n",
              "      --bg-color: #3B4455;\n",
              "      --fill-color: #D2E3FC;\n",
              "      --hover-bg-color: #434B5C;\n",
              "      --hover-fill-color: #FFFFFF;\n",
              "      --disabled-bg-color: #3B4455;\n",
              "      --disabled-fill-color: #666;\n",
              "  }\n",
              "\n",
              "  .colab-df-quickchart {\n",
              "    background-color: var(--bg-color);\n",
              "    border: none;\n",
              "    border-radius: 50%;\n",
              "    cursor: pointer;\n",
              "    display: none;\n",
              "    fill: var(--fill-color);\n",
              "    height: 32px;\n",
              "    padding: 0;\n",
              "    width: 32px;\n",
              "  }\n",
              "\n",
              "  .colab-df-quickchart:hover {\n",
              "    background-color: var(--hover-bg-color);\n",
              "    box-shadow: 0 1px 2px rgba(60, 64, 67, 0.3), 0 1px 3px 1px rgba(60, 64, 67, 0.15);\n",
              "    fill: var(--button-hover-fill-color);\n",
              "  }\n",
              "\n",
              "  .colab-df-quickchart-complete:disabled,\n",
              "  .colab-df-quickchart-complete:disabled:hover {\n",
              "    background-color: var(--disabled-bg-color);\n",
              "    fill: var(--disabled-fill-color);\n",
              "    box-shadow: none;\n",
              "  }\n",
              "\n",
              "  .colab-df-spinner {\n",
              "    border: 2px solid var(--fill-color);\n",
              "    border-color: transparent;\n",
              "    border-bottom-color: var(--fill-color);\n",
              "    animation:\n",
              "      spin 1s steps(1) infinite;\n",
              "  }\n",
              "\n",
              "  @keyframes spin {\n",
              "    0% {\n",
              "      border-color: transparent;\n",
              "      border-bottom-color: var(--fill-color);\n",
              "      border-left-color: var(--fill-color);\n",
              "    }\n",
              "    20% {\n",
              "      border-color: transparent;\n",
              "      border-left-color: var(--fill-color);\n",
              "      border-top-color: var(--fill-color);\n",
              "    }\n",
              "    30% {\n",
              "      border-color: transparent;\n",
              "      border-left-color: var(--fill-color);\n",
              "      border-top-color: var(--fill-color);\n",
              "      border-right-color: var(--fill-color);\n",
              "    }\n",
              "    40% {\n",
              "      border-color: transparent;\n",
              "      border-right-color: var(--fill-color);\n",
              "      border-top-color: var(--fill-color);\n",
              "    }\n",
              "    60% {\n",
              "      border-color: transparent;\n",
              "      border-right-color: var(--fill-color);\n",
              "    }\n",
              "    80% {\n",
              "      border-color: transparent;\n",
              "      border-right-color: var(--fill-color);\n",
              "      border-bottom-color: var(--fill-color);\n",
              "    }\n",
              "    90% {\n",
              "      border-color: transparent;\n",
              "      border-bottom-color: var(--fill-color);\n",
              "    }\n",
              "  }\n",
              "</style>\n",
              "\n",
              "  <script>\n",
              "    async function quickchart(key) {\n",
              "      const quickchartButtonEl =\n",
              "        document.querySelector('#' + key + ' button');\n",
              "      quickchartButtonEl.disabled = true;  // To prevent multiple clicks.\n",
              "      quickchartButtonEl.classList.add('colab-df-spinner');\n",
              "      try {\n",
              "        const charts = await google.colab.kernel.invokeFunction(\n",
              "            'suggestCharts', [key], {});\n",
              "      } catch (error) {\n",
              "        console.error('Error during call to suggestCharts:', error);\n",
              "      }\n",
              "      quickchartButtonEl.classList.remove('colab-df-spinner');\n",
              "      quickchartButtonEl.classList.add('colab-df-quickchart-complete');\n",
              "    }\n",
              "    (() => {\n",
              "      let quickchartButtonEl =\n",
              "        document.querySelector('#df-b1fe9159-cdc1-4b12-8a29-2bd47640826c button');\n",
              "      quickchartButtonEl.style.display =\n",
              "        google.colab.kernel.accessAllowed ? 'block' : 'none';\n",
              "    })();\n",
              "  </script>\n",
              "</div>\n",
              "    </div>\n",
              "  </div>\n"
            ]
          },
          "metadata": {},
          "execution_count": 6
        }
      ]
    },
    {
      "cell_type": "markdown",
      "source": [
        "Number of datapoints:\n",
        "\n",
        "200 stocks\n",
        "481 days\n",
        "55 steps each day\n",
        "\n",
        "So number of datapoints should be 200 * 481 * 55  (stocks * days * steps) = 5291000"
      ],
      "metadata": {
        "id": "o6PB-vEcca5f"
      }
    },
    {
      "cell_type": "code",
      "source": [
        "#VB\n",
        "import_data.shape"
      ],
      "metadata": {
        "colab": {
          "base_uri": "https://localhost:8080/"
        },
        "id": "M8BpcMYnIhp7",
        "outputId": "e57269cd-0b4f-4900-aac4-839e75fb9f58"
      },
      "execution_count": null,
      "outputs": [
        {
          "output_type": "execute_result",
          "data": {
            "text/plain": [
              "(5237980, 17)"
            ]
          },
          "metadata": {},
          "execution_count": 7
        }
      ]
    },
    {
      "cell_type": "markdown",
      "source": [
        "We can see that 53020 datapoints are missing"
      ],
      "metadata": {
        "id": "n9M0ZQiYdxXd"
      }
    },
    {
      "cell_type": "code",
      "source": [
        "#VB\n",
        "data_frame = import_data\n",
        "\n",
        "# Group the data by 'date_id' and count the unique 'stock_id' values for each day\n",
        "stock_count_per_day = data_frame.groupby('date_id')['stock_id'].nunique()\n",
        "\n",
        "# Expected number of stocks each day\n",
        "expected_stock_count = 200\n",
        "\n",
        "# Number of missing stocks each day\n",
        "missing_stock_count = expected_stock_count - stock_count_per_day\n",
        "\n",
        "# Total missing stocks througouth the 200 days\n",
        "total_missing_stocks = missing_stock_count.sum()\n",
        "\n",
        "# Days and number of missing stocks\n",
        "print(\"Date and number of missing stocks:\")\n",
        "print(missing_stock_count)\n",
        "\n",
        "# Total number of missing stocks\n",
        "print(\"Total number of missing stocks:\", total_missing_stocks)\n"
      ],
      "metadata": {
        "colab": {
          "base_uri": "https://localhost:8080/"
        },
        "id": "K0iIkCAGd2bO",
        "outputId": "6f17a53e-ebd9-490b-871f-77ddd1ffe682"
      },
      "execution_count": null,
      "outputs": [
        {
          "output_type": "stream",
          "name": "stdout",
          "text": [
            "Date and number of missing stocks:\n",
            "date_id\n",
            "0      9\n",
            "1      9\n",
            "2      9\n",
            "3      9\n",
            "4      8\n",
            "      ..\n",
            "476    0\n",
            "477    0\n",
            "478    0\n",
            "479    0\n",
            "480    0\n",
            "Name: stock_id, Length: 481, dtype: int64\n",
            "Total number of missing stocks: 964\n"
          ]
        }
      ]
    },
    {
      "cell_type": "markdown",
      "source": [
        "As we can see throughout the 481 days a total of 964 stocks are missing entirely. 964 * 55 = 53020,  so this means that missing data is found. This also means that fortunately that the stock data that we do have doesn't have any missing values."
      ],
      "metadata": {
        "id": "sQKgAmopmOGN"
      }
    },
    {
      "cell_type": "code",
      "source": [
        "#VB\n",
        "# Function to plot the time series of a stock on a day\n",
        "def stock_plotter(data_frame, cols, stock_id, date_id):\n",
        "\n",
        "  # Filtering data_frame where the stock_id and date_id match with our inputs\n",
        "  data_frame = data_frame.query(f'stock_id == {stock_id} & date_id == {date_id}')\n",
        "\n",
        "  # We want all rows of the seconds_in_bucket and input columns\n",
        "  data_frame = data_frame.loc[:, ['seconds_in_bucket'] + cols]\n",
        "\n",
        "  # Set seconds_in_bucket as the index for the data_frame\n",
        "  data_frame = data_frame.set_index('seconds_in_bucket')\n",
        "\n",
        "  # Plot time series\n",
        "  data_frame = data_frame.plot(title=f'Stock {stock_id} on Day {date_id}', figsize=(10, 4), linewidth=1)"
      ],
      "metadata": {
        "id": "rPbIVSf9zOrz"
      },
      "execution_count": null,
      "outputs": []
    },
    {
      "cell_type": "code",
      "source": [
        "#VB\n",
        "# Generate random numbers to print random stocks on random days, not excluding the missing ones (will have to fix in future)\n",
        "stock_no = random.randint(0,200)\n",
        "day_no = random.randint(0,481)\n",
        "\n",
        "# Plot\n",
        "stock_plotter(\n",
        "  data_frame=import_data,\n",
        "  cols=['bid_price','ask_price', 'wap'],\n",
        "  stock_id=stock_no,\n",
        "  date_id=day_no)\n",
        "\n"
      ],
      "metadata": {
        "id": "nhTJzBTX1No2",
        "colab": {
          "base_uri": "https://localhost:8080/",
          "height": 410
        },
        "outputId": "0fefe1d6-6276-4d53-ae54-b41445d581b6"
      },
      "execution_count": null,
      "outputs": [
        {
          "output_type": "display_data",
          "data": {
            "text/plain": [
              "<Figure size 1000x400 with 1 Axes>"
            ],
            "image/png": "[encoded data removed]"
          },
          "metadata": {}
        }
      ]
    },
    {
      "cell_type": "code",
      "source": [
        "#VB\n",
        "\n",
        "# Dropping NaN values because they cause errors in calculatin MAE\n",
        "data_frame = data_frame.dropna(subset=['target'])\n",
        "\n",
        "# Splitting data, dropping row_id becaues it's not necesseary, and it's 'object' type causing error with pandas\n",
        "X = data_frame.drop(['target', 'row_id'], axis=1)\n",
        "y = data_frame[['target']]\n",
        "\n",
        "\n",
        "X_train, X_test, y_train, y_test = train_test_split(X, y, test_size=0.25,)"
      ],
      "metadata": {
        "id": "yrdikP85q0kD"
      },
      "execution_count": null,
      "outputs": []
    },
    {
      "cell_type": "code",
      "source": [
        "#VB\n",
        "# Storing hyperparameters and MAE score, will have better system for it in future\n",
        "model_params = []\n",
        "model_mae = []"
      ],
      "metadata": {
        "id": "_H5FDS-Q_6yK"
      },
      "execution_count": null,
      "outputs": []
    },
    {
      "cell_type": "code",
      "source": [
        "#VB\n",
        "# Using LGBM framework for training model\n",
        "from lightgbm import LGBMRegressor\n",
        "params={'n_estimators': 300,\n",
        "        'learning_rate': 0.09,\n",
        "        'max_depth': 8,\n",
        "        'num_leaves': 25,\n",
        "        }\n",
        "\n",
        "model=LGBMRegressor(**params, random_state=123, device='cpu')\n",
        "model.fit(X_train, y_train)"
      ],
      "metadata": {
        "colab": {
          "base_uri": "https://localhost:8080/",
          "height": 196
        },
        "id": "LXWEvIACAf35",
        "outputId": "ff238e68-6b1d-441e-8145-afe045206aca"
      },
      "execution_count": null,
      "outputs": [
        {
          "output_type": "stream",
          "name": "stdout",
          "text": [
            "[LightGBM] [Warning] Auto-choosing row-wise multi-threading, the overhead of testing was 0.195175 seconds.\n",
            "You can set `force_row_wise=true` to remove the overhead.\n",
            "And if memory is not enough, you can set `force_col_wise=true`.\n",
            "[LightGBM] [Info] Total Bins 3316\n",
            "[LightGBM] [Info] Number of data points in the train set: 3928419, number of used features: 15\n",
            "[LightGBM] [Info] Start training from score -0.048789\n"
          ]
        },
        {
          "output_type": "execute_result",
          "data": {
            "text/plain": [
              "LGBMRegressor(device='cpu', learning_rate=0.09, max_depth=8, n_estimators=300,\n",
              "              num_leaves=25, random_state=123)"
            ],
            "text/html": [
              "<style>#sk-container-id-1 {color: black;background-color: white;}#sk-container-id-1 pre{padding: 0;}#sk-container-id-1 div.sk-toggleable {background-color: white;}#sk-container-id-1 label.sk-toggleable__label {cursor: pointer;display: block;width: 100%;margin-bottom: 0;padding: 0.3em;box-sizing: border-box;text-align: center;}#sk-container-id-1 label.sk-toggleable__label-arrow:before {content: \"▸\";float: left;margin-right: 0.25em;color: #696969;}#sk-container-id-1 label.sk-toggleable__label-arrow:hover:before {color: black;}#sk-container-id-1 div.sk-estimator:hover label.sk-toggleable__label-arrow:before {color: black;}#sk-container-id-1 div.sk-toggleable__content {max-height: 0;max-width: 0;overflow: hidden;text-align: left;background-color: #f0f8ff;}#sk-container-id-1 div.sk-toggleable__content pre {margin: 0.2em;color: black;border-radius: 0.25em;background-color: #f0f8ff;}#sk-container-id-1 input.sk-toggleable__control:checked~div.sk-toggleable__content {max-height: 200px;max-width: 100%;overflow: auto;}#sk-container-id-1 input.sk-toggleable__control:checked~label.sk-toggleable__label-arrow:before {content: \"▾\";}#sk-container-id-1 div.sk-estimator input.sk-toggleable__control:checked~label.sk-toggleable__label {background-color: #d4ebff;}#sk-container-id-1 div.sk-label input.sk-toggleable__control:checked~label.sk-toggleable__label {background-color: #d4ebff;}#sk-container-id-1 input.sk-hidden--visually {border: 0;clip: rect(1px 1px 1px 1px);clip: rect(1px, 1px, 1px, 1px);height: 1px;margin: -1px;overflow: hidden;padding: 0;position: absolute;width: 1px;}#sk-container-id-1 div.sk-estimator {font-family: monospace;background-color: #f0f8ff;border: 1px dotted black;border-radius: 0.25em;box-sizing: border-box;margin-bottom: 0.5em;}#sk-container-id-1 div.sk-estimator:hover {background-color: #d4ebff;}#sk-container-id-1 div.sk-parallel-item::after {content: \"\";width: 100%;border-bottom: 1px solid gray;flex-grow: 1;}#sk-container-id-1 div.sk-label:hover label.sk-toggleable__label {background-color: #d4ebff;}#sk-container-id-1 div.sk-serial::before {content: \"\";position: absolute;border-left: 1px solid gray;box-sizing: border-box;top: 0;bottom: 0;left: 50%;z-index: 0;}#sk-container-id-1 div.sk-serial {display: flex;flex-direction: column;align-items: center;background-color: white;padding-right: 0.2em;padding-left: 0.2em;position: relative;}#sk-container-id-1 div.sk-item {position: relative;z-index: 1;}#sk-container-id-1 div.sk-parallel {display: flex;align-items: stretch;justify-content: center;background-color: white;position: relative;}#sk-container-id-1 div.sk-item::before, #sk-container-id-1 div.sk-parallel-item::before {content: \"\";position: absolute;border-left: 1px solid gray;box-sizing: border-box;top: 0;bottom: 0;left: 50%;z-index: -1;}#sk-container-id-1 div.sk-parallel-item {display: flex;flex-direction: column;z-index: 1;position: relative;background-color: white;}#sk-container-id-1 div.sk-parallel-item:first-child::after {align-self: flex-end;width: 50%;}#sk-container-id-1 div.sk-parallel-item:last-child::after {align-self: flex-start;width: 50%;}#sk-container-id-1 div.sk-parallel-item:only-child::after {width: 0;}#sk-container-id-1 div.sk-dashed-wrapped {border: 1px dashed gray;margin: 0 0.4em 0.5em 0.4em;box-sizing: border-box;padding-bottom: 0.4em;background-color: white;}#sk-container-id-1 div.sk-label label {font-family: monospace;font-weight: bold;display: inline-block;line-height: 1.2em;}#sk-container-id-1 div.sk-label-container {text-align: center;}#sk-container-id-1 div.sk-container {/* jupyter's `normalize.less` sets `[hidden] { display: none; }` but bootstrap.min.css set `[hidden] { display: none !important; }` so we also need the `!important` here to be able to override the default hidden behavior on the sphinx rendered scikit-learn.org. See: https://github.com/scikit-learn/scikit-learn/issues/21755 */display: inline-block !important;position: relative;}#sk-container-id-1 div.sk-text-repr-fallback {display: none;}</style><div id=\"sk-container-id-1\" class=\"sk-top-container\"><div class=\"sk-text-repr-fallback\"><pre>LGBMRegressor(device=&#x27;cpu&#x27;, learning_rate=0.09, max_depth=8, n_estimators=300,\n",
              "              num_leaves=25, random_state=123)</pre><b>In a Jupyter environment, please rerun this cell to show the HTML representation or trust the notebook. <br />On GitHub, the HTML representation is unable to render, please try loading this page with nbviewer.org.</b></div><div class=\"sk-container\" hidden><div class=\"sk-item\"><div class=\"sk-estimator sk-toggleable\"><input class=\"sk-toggleable__control sk-hidden--visually\" id=\"sk-estimator-id-1\" type=\"checkbox\" checked><label for=\"sk-estimator-id-1\" class=\"sk-toggleable__label sk-toggleable__label-arrow\">LGBMRegressor</label><div class=\"sk-toggleable__content\"><pre>LGBMRegressor(device=&#x27;cpu&#x27;, learning_rate=0.09, max_depth=8, n_estimators=300,\n",
              "              num_leaves=25, random_state=123)</pre></div></div></div></div></div>"
            ]
          },
          "metadata": {},
          "execution_count": 13
        }
      ]
    },
    {
      "cell_type": "code",
      "source": [
        "#VB\n",
        "# Get predictions of test set\n",
        "pred_LGB=model.predict(X_test)\n",
        "\n",
        "# Calculate the mean absolute error of the predictions and target\n",
        "mean_ae = mean_absolute_error(y_test,pred_LGB)\n",
        "print(\"MAE score of model =\", mean_ae)\n",
        "\n",
        "# Store hyperparameters and score\n",
        "model_params.append(model)\n",
        "model_mae.append(mean_ae)"
      ],
      "metadata": {
        "colab": {
          "base_uri": "https://localhost:8080/"
        },
        "id": "Q-Zxg8quA6Q9",
        "outputId": "07e2a0b8-3fdf-45b2-a98b-ce7d420b0139"
      },
      "execution_count": null,
      "outputs": [
        {
          "output_type": "stream",
          "name": "stdout",
          "text": [
            "MAE score of Support Vector Regression Model = 6.289176747758884\n"
          ]
        }
      ]
    },
    {
      "cell_type": "code",
      "source": [
        "#VB\n",
        "print(model_params, model_mae)"
      ],
      "metadata": {
        "colab": {
          "base_uri": "https://localhost:8080/"
        },
        "id": "GNyWU0TDHlmm",
        "outputId": "5bee28c2-6fbb-4566-a40a-87d20ef26308"
      },
      "execution_count": null,
      "outputs": [
        {
          "output_type": "stream",
          "name": "stdout",
          "text": [
            "[LGBMRegressor(device='cpu', learning_rate=0.09, max_depth=8, n_estimators=300,\n",
            "              num_leaves=25, random_state=123)] [6.289176747758884]\n"
          ]
        }
      ]
    }
  ]
}