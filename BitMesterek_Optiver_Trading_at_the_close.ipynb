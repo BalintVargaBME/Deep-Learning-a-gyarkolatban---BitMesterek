{
  "cells": [
    {
      "cell_type": "markdown",
      "metadata": {
        "id": "view-in-github",
        "colab_type": "text"
      },
      "source": [
        "<a href=\"https://colab.research.google.com/github/BalintVargaBME/Deep-Learning-a-gyarkolatban---BitMesterek/blob/main/BitMesterek_Optiver_Trading_at_the_close.ipynb\" target=\"_parent\"><img src=\"https://colab.research.google.com/assets/colab-badge.svg\" alt=\"Open In Colab\"/></a>"
      ]
    },
    {
      "cell_type": "code",
      "execution_count": null,
      "metadata": {
        "id": "MWF0D3t5_Wxo"
      },
      "outputs": [],
      "source": [
        "#VB\n",
        "# Import libraries\n",
        "import pandas as pd\n",
        "import os\n",
        "import zipfile\n",
        "import numpy as np\n",
        "import random\n",
        "from lightgbm import LGBMRegressor\n",
        "from sklearn.metrics import mean_absolute_error\n",
        "from sklearn.model_selection import train_test_split"
      ]
    },
    {
      "cell_type": "code",
      "execution_count": null,
      "metadata": {
        "id": "klruvZKRCKkR"
      },
      "outputs": [],
      "source": [
        "#VB\n",
        "# Mount drive to colab\n",
        "#from google.colab import drive\n",
        "#drive.mount('/content/drive')"
      ]
    },
    {
      "cell_type": "code",
      "execution_count": null,
      "metadata": {
        "id": "Wcasjs8hCROj"
      },
      "outputs": [],
      "source": [
        "#VB\n",
        "# Navigate to working directory\n",
        "# Change to your own Drive directory after MyDrive/\n",
        "\n",
        "#%cd /content/drive/MyDrive/Deep Learning a gyakorlatban/Nagy házi/\n",
        "\n",
        "# Telling Kaggle where to find the API key, needed for dowloading dataset, change to your own directory after MyDrive/\n",
        "#os.environ['KAGGLE_CONFIG_DIR'] = \"/content/drive/MyDrive/Deep Learning a gyakorlatban/Nagy házi\""
      ]
    },
    {
      "cell_type": "code",
      "execution_count": null,
      "metadata": {
        "id": "3G__JhZjAH02"
      },
      "outputs": [],
      "source": [
        "#VB\n",
        "# Commented out so Colab won't download each time when all cells are run\n",
        "\n",
        "# Download data from Kaggle\n",
        "#!kaggle competitions download -c optiver-trading-at-the-close"
      ]
    },
    {
      "cell_type": "code",
      "execution_count": null,
      "metadata": {
        "colab": {
          "base_uri": "https://localhost:8080/"
        },
        "id": "j3hUrr3vD9Go",
        "outputId": "e2f95950-fddc-4262-b9ba-fcf04c498843"
      },
      "outputs": [
        {
          "output_type": "stream",
          "name": "stdout",
          "text": [
            "\u001b[0m\u001b[01;34msample_data\u001b[0m/\n"
          ]
        }
      ],
      "source": [
        "#VB\n",
        "\n",
        "# Commented out so Colab won't download each time when all cells are run\n",
        "# Unzip, then delete file\n",
        "\n",
        "\n",
        "#for file in os.listdir():\n",
        " #   if file.endswith(\".zip\"):\n",
        "  #      with zipfile.ZipFile(file, \"r\") as zip_file:\n",
        "   #         zip_file.extractall()\n",
        "\n",
        "\n",
        "# List files in working directory\n",
        "%ls"
      ]
    },
    {
      "cell_type": "code",
      "execution_count": null,
      "metadata": {
        "colab": {
          "base_uri": "https://localhost:8080/"
        },
        "id": "PoyAhmZWqMhh",
        "outputId": "0eaba6ec-9bfa-4784-c3bc-bf473b7958b3"
      },
      "outputs": [
        {
          "output_type": "stream",
          "name": "stdout",
          "text": [
            "--2023-11-27 10:25:15--  https://www.dropbox.com/scl/fi/ibujwdcz78j7u2svlqmum/train.csv?rlkey=r7rwxzxrawaavj8uyhb4edx6j\n",
            "Resolving www.dropbox.com (www.dropbox.com)... 162.125.4.18, 2620:100:601c:18::a27d:612\n",
            "Connecting to www.dropbox.com (www.dropbox.com)|162.125.4.18|:443... connected.\n",
            "HTTP request sent, awaiting response... 302 Found\n",
            "Location: https://uc92ff944f352b652bbbb23eb7ff.dl.dropboxusercontent.com/cd/0/inline/CIXl13TsQ7VQon8263u1i3CGulw5M3mJC0IqIvzCJ7wmIQip61EvDDo6QWsdf1UJQwwesV1JhSbiU7XVrn5Uv5fHPl22pl69DfmTm2mBLsMIppFCCr57qpY3ON_vXIKsTyBuXq6WBaSWzuIIoRVTzy9s/file# [following]\n",
            "--2023-11-27 10:25:16--  https://uc92ff944f352b652bbbb23eb7ff.dl.dropboxusercontent.com/cd/0/inline/CIXl13TsQ7VQon8263u1i3CGulw5M3mJC0IqIvzCJ7wmIQip61EvDDo6QWsdf1UJQwwesV1JhSbiU7XVrn5Uv5fHPl22pl69DfmTm2mBLsMIppFCCr57qpY3ON_vXIKsTyBuXq6WBaSWzuIIoRVTzy9s/file\n",
            "Resolving uc92ff944f352b652bbbb23eb7ff.dl.dropboxusercontent.com (uc92ff944f352b652bbbb23eb7ff.dl.dropboxusercontent.com)... 162.125.64.15, 2620:100:601c:15::a27d:60f\n",
            "Connecting to uc92ff944f352b652bbbb23eb7ff.dl.dropboxusercontent.com (uc92ff944f352b652bbbb23eb7ff.dl.dropboxusercontent.com)|162.125.64.15|:443... connected.\n",
            "HTTP request sent, awaiting response... 200 OK\n",
            "Length: 640896779 (611M) [text/plain]\n",
            "Saving to: ‘train.csv?rlkey=r7rwxzxrawaavj8uyhb4edx6j’\n",
            "\n",
            "train.csv?rlkey=r7r 100%[===================>] 611.21M  32.0MB/s    in 21s     \n",
            "\n",
            "2023-11-27 10:25:38 (28.6 MB/s) - ‘train.csv?rlkey=r7rwxzxrawaavj8uyhb4edx6j’ saved [640896779/640896779]\n",
            "\n"
          ]
        }
      ],
      "source": [
        "# Download train.csv\n",
        "!wget https://www.dropbox.com/scl/fi/ibujwdcz78j7u2svlqmum/train.csv?rlkey=r7rwxzxrawaavj8uyhb4edx6j&dl=0"
      ]
    },
    {
      "cell_type": "code",
      "execution_count": null,
      "metadata": {
        "id": "DZ9DyY8DFZda",
        "colab": {
          "base_uri": "https://localhost:8080/",
          "height": 226
        },
        "outputId": "d9f49f24-c6da-440b-af35-6f310e271d2a"
      },
      "outputs": [
        {
          "output_type": "execute_result",
          "data": {
            "text/plain": [
              "   stock_id  date_id  seconds_in_bucket  imbalance_size  \\\n",
              "0         0        0                  0      3180602.69   \n",
              "1         1        0                  0       166603.91   \n",
              "2         2        0                  0       302879.87   \n",
              "3         3        0                  0     11917682.27   \n",
              "4         4        0                  0       447549.96   \n",
              "\n",
              "   imbalance_buy_sell_flag  reference_price  matched_size  far_price  \\\n",
              "0                        1         0.999812   13380276.64        NaN   \n",
              "1                       -1         0.999896    1642214.25        NaN   \n",
              "2                       -1         0.999561    1819368.03        NaN   \n",
              "3                       -1         1.000171   18389745.62        NaN   \n",
              "4                       -1         0.999532   17860614.95        NaN   \n",
              "\n",
              "   near_price  bid_price  bid_size  ask_price   ask_size  wap    target  \\\n",
              "0         NaN   0.999812  60651.50   1.000026    8493.03  1.0 -3.029704   \n",
              "1         NaN   0.999896   3233.04   1.000660   20605.09  1.0 -5.519986   \n",
              "2         NaN   0.999403  37956.00   1.000298   18995.00  1.0 -8.389950   \n",
              "3         NaN   0.999999   2324.90   1.000214  479032.40  1.0 -4.010200   \n",
              "4         NaN   0.999394  16485.54   1.000016     434.10  1.0 -7.349849   \n",
              "\n",
              "   time_id row_id  \n",
              "0        0  0_0_0  \n",
              "1        0  0_0_1  \n",
              "2        0  0_0_2  \n",
              "3        0  0_0_3  \n",
              "4        0  0_0_4  "
            ],
            "text/html": [
              "\n",
              "  <div id=\"df-f70cd268-d2e3-44ca-810d-d2680f4096a9\" class=\"colab-df-container\">\n",
              "    <div>\n",
              "<style scoped>\n",
              "    .dataframe tbody tr th:only-of-type {\n",
              "        vertical-align: middle;\n",
              "    }\n",
              "\n",
              "    .dataframe tbody tr th {\n",
              "        vertical-align: top;\n",
              "    }\n",
              "\n",
              "    .dataframe thead th {\n",
              "        text-align: right;\n",
              "    }\n",
              "</style>\n",
              "<table border=\"1\" class=\"dataframe\">\n",
              "  <thead>\n",
              "    <tr style=\"text-align: right;\">\n",
              "      <th></th>\n",
              "      <th>stock_id</th>\n",
              "      <th>date_id</th>\n",
              "      <th>seconds_in_bucket</th>\n",
              "      <th>imbalance_size</th>\n",
              "      <th>imbalance_buy_sell_flag</th>\n",
              "      <th>reference_price</th>\n",
              "      <th>matched_size</th>\n",
              "      <th>far_price</th>\n",
              "      <th>near_price</th>\n",
              "      <th>bid_price</th>\n",
              "      <th>bid_size</th>\n",
              "      <th>ask_price</th>\n",
              "      <th>ask_size</th>\n",
              "      <th>wap</th>\n",
              "      <th>target</th>\n",
              "      <th>time_id</th>\n",
              "      <th>row_id</th>\n",
              "    </tr>\n",
              "  </thead>\n",
              "  <tbody>\n",
              "    <tr>\n",
              "      <th>0</th>\n",
              "      <td>0</td>\n",
              "      <td>0</td>\n",
              "      <td>0</td>\n",
              "      <td>3180602.69</td>\n",
              "      <td>1</td>\n",
              "      <td>0.999812</td>\n",
              "      <td>13380276.64</td>\n",
              "      <td>NaN</td>\n",
              "      <td>NaN</td>\n",
              "      <td>0.999812</td>\n",
              "      <td>60651.50</td>\n",
              "      <td>1.000026</td>\n",
              "      <td>8493.03</td>\n",
              "      <td>1.0</td>\n",
              "      <td>-3.029704</td>\n",
              "      <td>0</td>\n",
              "      <td>0_0_0</td>\n",
              "    </tr>\n",
              "    <tr>\n",
              "      <th>1</th>\n",
              "      <td>1</td>\n",
              "      <td>0</td>\n",
              "      <td>0</td>\n",
              "      <td>166603.91</td>\n",
              "      <td>-1</td>\n",
              "      <td>0.999896</td>\n",
              "      <td>1642214.25</td>\n",
              "      <td>NaN</td>\n",
              "      <td>NaN</td>\n",
              "      <td>0.999896</td>\n",
              "      <td>3233.04</td>\n",
              "      <td>1.000660</td>\n",
              "      <td>20605.09</td>\n",
              "      <td>1.0</td>\n",
              "      <td>-5.519986</td>\n",
              "      <td>0</td>\n",
              "      <td>0_0_1</td>\n",
              "    </tr>\n",
              "    <tr>\n",
              "      <th>2</th>\n",
              "      <td>2</td>\n",
              "      <td>0</td>\n",
              "      <td>0</td>\n",
              "      <td>302879.87</td>\n",
              "      <td>-1</td>\n",
              "      <td>0.999561</td>\n",
              "      <td>1819368.03</td>\n",
              "      <td>NaN</td>\n",
              "      <td>NaN</td>\n",
              "      <td>0.999403</td>\n",
              "      <td>37956.00</td>\n",
              "      <td>1.000298</td>\n",
              "      <td>18995.00</td>\n",
              "      <td>1.0</td>\n",
              "      <td>-8.389950</td>\n",
              "      <td>0</td>\n",
              "      <td>0_0_2</td>\n",
              "    </tr>\n",
              "    <tr>\n",
              "      <th>3</th>\n",
              "      <td>3</td>\n",
              "      <td>0</td>\n",
              "      <td>0</td>\n",
              "      <td>11917682.27</td>\n",
              "      <td>-1</td>\n",
              "      <td>1.000171</td>\n",
              "      <td>18389745.62</td>\n",
              "      <td>NaN</td>\n",
              "      <td>NaN</td>\n",
              "      <td>0.999999</td>\n",
              "      <td>2324.90</td>\n",
              "      <td>1.000214</td>\n",
              "      <td>479032.40</td>\n",
              "      <td>1.0</td>\n",
              "      <td>-4.010200</td>\n",
              "      <td>0</td>\n",
              "      <td>0_0_3</td>\n",
              "    </tr>\n",
              "    <tr>\n",
              "      <th>4</th>\n",
              "      <td>4</td>\n",
              "      <td>0</td>\n",
              "      <td>0</td>\n",
              "      <td>447549.96</td>\n",
              "      <td>-1</td>\n",
              "      <td>0.999532</td>\n",
              "      <td>17860614.95</td>\n",
              "      <td>NaN</td>\n",
              "      <td>NaN</td>\n",
              "      <td>0.999394</td>\n",
              "      <td>16485.54</td>\n",
              "      <td>1.000016</td>\n",
              "      <td>434.10</td>\n",
              "      <td>1.0</td>\n",
              "      <td>-7.349849</td>\n",
              "      <td>0</td>\n",
              "      <td>0_0_4</td>\n",
              "    </tr>\n",
              "  </tbody>\n",
              "</table>\n",
              "</div>\n",
              "    <div class=\"colab-df-buttons\">\n",
              "\n",
              "  <div class=\"colab-df-container\">\n",
              "    <button class=\"colab-df-convert\" onclick=\"convertToInteractive('df-f70cd268-d2e3-44ca-810d-d2680f4096a9')\"\n",
              "            title=\"Convert this dataframe to an interactive table.\"\n",
              "            style=\"display:none;\">\n",
              "\n",
              "  <svg xmlns=\"http://www.w3.org/2000/svg\" height=\"24px\" viewBox=\"0 -960 960 960\">\n",
              "    <path d=\"M120-120v-720h720v720H120Zm60-500h600v-160H180v160Zm220 220h160v-160H400v160Zm0 220h160v-160H400v160ZM180-400h160v-160H180v160Zm440 0h160v-160H620v160ZM180-180h160v-160H180v160Zm440 0h160v-160H620v160Z\"/>\n",
              "  </svg>\n",
              "    </button>\n",
              "\n",
              "  <style>\n",
              "    .colab-df-container {\n",
              "      display:flex;\n",
              "      gap: 12px;\n",
              "    }\n",
              "\n",
              "    .colab-df-convert {\n",
              "      background-color: #E8F0FE;\n",
              "      border: none;\n",
              "      border-radius: 50%;\n",
              "      cursor: pointer;\n",
              "      display: none;\n",
              "      fill: #1967D2;\n",
              "      height: 32px;\n",
              "      padding: 0 0 0 0;\n",
              "      width: 32px;\n",
              "    }\n",
              "\n",
              "    .colab-df-convert:hover {\n",
              "      background-color: #E2EBFA;\n",
              "      box-shadow: 0px 1px 2px rgba(60, 64, 67, 0.3), 0px 1px 3px 1px rgba(60, 64, 67, 0.15);\n",
              "      fill: #174EA6;\n",
              "    }\n",
              "\n",
              "    .colab-df-buttons div {\n",
              "      margin-bottom: 4px;\n",
              "    }\n",
              "\n",
              "    [theme=dark] .colab-df-convert {\n",
              "      background-color: #3B4455;\n",
              "      fill: #D2E3FC;\n",
              "    }\n",
              "\n",
              "    [theme=dark] .colab-df-convert:hover {\n",
              "      background-color: #434B5C;\n",
              "      box-shadow: 0px 1px 3px 1px rgba(0, 0, 0, 0.15);\n",
              "      filter: drop-shadow(0px 1px 2px rgba(0, 0, 0, 0.3));\n",
              "      fill: #FFFFFF;\n",
              "    }\n",
              "  </style>\n",
              "\n",
              "    <script>\n",
              "      const buttonEl =\n",
              "        document.querySelector('#df-f70cd268-d2e3-44ca-810d-d2680f4096a9 button.colab-df-convert');\n",
              "      buttonEl.style.display =\n",
              "        google.colab.kernel.accessAllowed ? 'block' : 'none';\n",
              "\n",
              "      async function convertToInteractive(key) {\n",
              "        const element = document.querySelector('#df-f70cd268-d2e3-44ca-810d-d2680f4096a9');\n",
              "        const dataTable =\n",
              "          await google.colab.kernel.invokeFunction('convertToInteractive',\n",
              "                                                    [key], {});\n",
              "        if (!dataTable) return;\n",
              "\n",
              "        const docLinkHtml = 'Like what you see? Visit the ' +\n",
              "          '<a target=\"_blank\" href=https://colab.research.google.com/notebooks/data_table.ipynb>data table notebook</a>'\n",
              "          + ' to learn more about interactive tables.';\n",
              "        element.innerHTML = '';\n",
              "        dataTable['output_type'] = 'display_data';\n",
              "        await google.colab.output.renderOutput(dataTable, element);\n",
              "        const docLink = document.createElement('div');\n",
              "        docLink.innerHTML = docLinkHtml;\n",
              "        element.appendChild(docLink);\n",
              "      }\n",
              "    </script>\n",
              "  </div>\n",
              "\n",
              "\n",
              "<div id=\"df-1014e8d4-2dbe-47e4-b0cf-b73dab0b0a87\">\n",
              "  <button class=\"colab-df-quickchart\" onclick=\"quickchart('df-1014e8d4-2dbe-47e4-b0cf-b73dab0b0a87')\"\n",
              "            title=\"Suggest charts\"\n",
              "            style=\"display:none;\">\n",
              "\n",
              "<svg xmlns=\"http://www.w3.org/2000/svg\" height=\"24px\"viewBox=\"0 0 24 24\"\n",
              "     width=\"24px\">\n",
              "    <g>\n",
              "        <path d=\"M19 3H5c-1.1 0-2 .9-2 2v14c0 1.1.9 2 2 2h14c1.1 0 2-.9 2-2V5c0-1.1-.9-2-2-2zM9 17H7v-7h2v7zm4 0h-2V7h2v10zm4 0h-2v-4h2v4z\"/>\n",
              "    </g>\n",
              "</svg>\n",
              "  </button>\n",
              "\n",
              "<style>\n",
              "  .colab-df-quickchart {\n",
              "      --bg-color: #E8F0FE;\n",
              "      --fill-color: #1967D2;\n",
              "      --hover-bg-color: #E2EBFA;\n",
              "      --hover-fill-color: #174EA6;\n",
              "      --disabled-fill-color: #AAA;\n",
              "      --disabled-bg-color: #DDD;\n",
              "  }\n",
              "\n",
              "  [theme=dark] .colab-df-quickchart {\n",
              "      --bg-color: #3B4455;\n",
              "      --fill-color: #D2E3FC;\n",
              "      --hover-bg-color: #434B5C;\n",
              "      --hover-fill-color: #FFFFFF;\n",
              "      --disabled-bg-color: #3B4455;\n",
              "      --disabled-fill-color: #666;\n",
              "  }\n",
              "\n",
              "  .colab-df-quickchart {\n",
              "    background-color: var(--bg-color);\n",
              "    border: none;\n",
              "    border-radius: 50%;\n",
              "    cursor: pointer;\n",
              "    display: none;\n",
              "    fill: var(--fill-color);\n",
              "    height: 32px;\n",
              "    padding: 0;\n",
              "    width: 32px;\n",
              "  }\n",
              "\n",
              "  .colab-df-quickchart:hover {\n",
              "    background-color: var(--hover-bg-color);\n",
              "    box-shadow: 0 1px 2px rgba(60, 64, 67, 0.3), 0 1px 3px 1px rgba(60, 64, 67, 0.15);\n",
              "    fill: var(--button-hover-fill-color);\n",
              "  }\n",
              "\n",
              "  .colab-df-quickchart-complete:disabled,\n",
              "  .colab-df-quickchart-complete:disabled:hover {\n",
              "    background-color: var(--disabled-bg-color);\n",
              "    fill: var(--disabled-fill-color);\n",
              "    box-shadow: none;\n",
              "  }\n",
              "\n",
              "  .colab-df-spinner {\n",
              "    border: 2px solid var(--fill-color);\n",
              "    border-color: transparent;\n",
              "    border-bottom-color: var(--fill-color);\n",
              "    animation:\n",
              "      spin 1s steps(1) infinite;\n",
              "  }\n",
              "\n",
              "  @keyframes spin {\n",
              "    0% {\n",
              "      border-color: transparent;\n",
              "      border-bottom-color: var(--fill-color);\n",
              "      border-left-color: var(--fill-color);\n",
              "    }\n",
              "    20% {\n",
              "      border-color: transparent;\n",
              "      border-left-color: var(--fill-color);\n",
              "      border-top-color: var(--fill-color);\n",
              "    }\n",
              "    30% {\n",
              "      border-color: transparent;\n",
              "      border-left-color: var(--fill-color);\n",
              "      border-top-color: var(--fill-color);\n",
              "      border-right-color: var(--fill-color);\n",
              "    }\n",
              "    40% {\n",
              "      border-color: transparent;\n",
              "      border-right-color: var(--fill-color);\n",
              "      border-top-color: var(--fill-color);\n",
              "    }\n",
              "    60% {\n",
              "      border-color: transparent;\n",
              "      border-right-color: var(--fill-color);\n",
              "    }\n",
              "    80% {\n",
              "      border-color: transparent;\n",
              "      border-right-color: var(--fill-color);\n",
              "      border-bottom-color: var(--fill-color);\n",
              "    }\n",
              "    90% {\n",
              "      border-color: transparent;\n",
              "      border-bottom-color: var(--fill-color);\n",
              "    }\n",
              "  }\n",
              "</style>\n",
              "\n",
              "  <script>\n",
              "    async function quickchart(key) {\n",
              "      const quickchartButtonEl =\n",
              "        document.querySelector('#' + key + ' button');\n",
              "      quickchartButtonEl.disabled = true;  // To prevent multiple clicks.\n",
              "      quickchartButtonEl.classList.add('colab-df-spinner');\n",
              "      try {\n",
              "        const charts = await google.colab.kernel.invokeFunction(\n",
              "            'suggestCharts', [key], {});\n",
              "      } catch (error) {\n",
              "        console.error('Error during call to suggestCharts:', error);\n",
              "      }\n",
              "      quickchartButtonEl.classList.remove('colab-df-spinner');\n",
              "      quickchartButtonEl.classList.add('colab-df-quickchart-complete');\n",
              "    }\n",
              "    (() => {\n",
              "      let quickchartButtonEl =\n",
              "        document.querySelector('#df-1014e8d4-2dbe-47e4-b0cf-b73dab0b0a87 button');\n",
              "      quickchartButtonEl.style.display =\n",
              "        google.colab.kernel.accessAllowed ? 'block' : 'none';\n",
              "    })();\n",
              "  </script>\n",
              "</div>\n",
              "    </div>\n",
              "  </div>\n"
            ]
          },
          "metadata": {},
          "execution_count": 7
        }
      ],
      "source": [
        "#VB\n",
        "import_data = pd.read_csv ('train.csv?rlkey=r7rwxzxrawaavj8uyhb4edx6j')\n",
        "import_data.head()"
      ]
    },
    {
      "cell_type": "markdown",
      "metadata": {
        "id": "o6PB-vEcca5f"
      },
      "source": [
        "Number of datapoints:\n",
        "\n",
        "200 stocks\n",
        "481 days\n",
        "55 steps each day\n",
        "\n",
        "So number of datapoints should be 200 * 481 * 55  (stocks * days * steps) = 5291000"
      ]
    },
    {
      "cell_type": "code",
      "execution_count": null,
      "metadata": {
        "id": "M8BpcMYnIhp7",
        "colab": {
          "base_uri": "https://localhost:8080/"
        },
        "outputId": "5f61f0dd-baa6-4cb2-ffcb-c4494eb10bbf"
      },
      "outputs": [
        {
          "output_type": "execute_result",
          "data": {
            "text/plain": [
              "(5237980, 17)"
            ]
          },
          "metadata": {},
          "execution_count": 8
        }
      ],
      "source": [
        "#VB\n",
        "import_data.shape"
      ]
    },
    {
      "cell_type": "markdown",
      "metadata": {
        "id": "n9M0ZQiYdxXd"
      },
      "source": [
        "We can see that 53020 datapoints are missing"
      ]
    },
    {
      "cell_type": "code",
      "execution_count": null,
      "metadata": {
        "id": "K0iIkCAGd2bO",
        "colab": {
          "base_uri": "https://localhost:8080/"
        },
        "outputId": "094ca63f-6d3d-4d7a-e5de-a9af239d3267"
      },
      "outputs": [
        {
          "output_type": "stream",
          "name": "stdout",
          "text": [
            "Date and number of missing stocks:\n",
            "date_id\n",
            "0      9\n",
            "1      9\n",
            "2      9\n",
            "3      9\n",
            "4      8\n",
            "      ..\n",
            "476    0\n",
            "477    0\n",
            "478    0\n",
            "479    0\n",
            "480    0\n",
            "Name: stock_id, Length: 481, dtype: int64\n",
            "Total number of missing stocks: 964\n"
          ]
        }
      ],
      "source": [
        "#VB\n",
        "data_frame = import_data\n",
        "\n",
        "# Group the data by 'date_id' and count the unique 'stock_id' values for each day\n",
        "stock_count_per_day = data_frame.groupby('date_id')['stock_id'].nunique()\n",
        "\n",
        "# Expected number of stocks each day\n",
        "expected_stock_count = 200\n",
        "\n",
        "# Number of missing stocks each day\n",
        "missing_stock_count = expected_stock_count - stock_count_per_day\n",
        "\n",
        "# Total missing stocks througouth the 200 days\n",
        "total_missing_stocks = missing_stock_count.sum()\n",
        "\n",
        "# Days and number of missing stocks\n",
        "print(\"Date and number of missing stocks:\")\n",
        "print(missing_stock_count)\n",
        "\n",
        "# Total number of missing stocks\n",
        "print(\"Total number of missing stocks:\", total_missing_stocks)\n"
      ]
    },
    {
      "cell_type": "markdown",
      "metadata": {
        "id": "sQKgAmopmOGN"
      },
      "source": [
        "As we can see throughout the 481 days a total of 964 stocks are missing entirely. 964 * 55 = 53020,  so this means that missing data is found. This also means that fortunately that the stock data that we do have doesn't have any missing values."
      ]
    },
    {
      "cell_type": "code",
      "execution_count": null,
      "metadata": {
        "id": "rPbIVSf9zOrz"
      },
      "outputs": [],
      "source": [
        "#VB\n",
        "# Function to plot the time series of a stock on a day\n",
        "def stock_plotter(data_frame, cols, stock_id, date_id):\n",
        "\n",
        "  # Filtering data_frame where the stock_id and date_id match with our inputs\n",
        "  data_frame = data_frame.query(f'stock_id == {stock_id} & date_id == {date_id}')\n",
        "\n",
        "  # We want all rows of the seconds_in_bucket and input columns\n",
        "  data_frame = data_frame.loc[:, ['seconds_in_bucket'] + cols]\n",
        "\n",
        "  # Set seconds_in_bucket as the index for the data_frame\n",
        "  data_frame = data_frame.set_index('seconds_in_bucket')\n",
        "\n",
        "  # Plot time series\n",
        "  data_frame = data_frame.plot(title=f'Stock {stock_id} on Day {date_id}', figsize=(10, 4), linewidth=1)"
      ]
    },
    {
      "cell_type": "code",
      "execution_count": null,
      "metadata": {
        "colab": {
          "base_uri": "https://localhost:8080/",
          "height": 410
        },
        "id": "nhTJzBTX1No2",
        "outputId": "cc441ec3-e26e-4632-dd14-347c894afed6"
      },
      "outputs": [
        {
          "output_type": "display_data",
          "data": {
            "text/plain": [
              "<Figure size 1000x400 with 1 Axes>"
            ],
            "image/png": "[encoded data removed]"
          },
          "metadata": {}
        }
      ],
      "source": [
        "#VB\n",
        "# Generate random numbers to print random stocks on random days, not excluding the missing ones (will have to fix in future)\n",
        "stock_no = random.randint(0,200)\n",
        "day_no = random.randint(0,481)\n",
        "\n",
        "# Plot\n",
        "stock_plotter(\n",
        "  data_frame=import_data,\n",
        "  cols=['bid_price','ask_price', 'wap'],\n",
        "  stock_id=stock_no,\n",
        "  date_id=day_no)\n",
        "\n"
      ]
    },
    {
      "cell_type": "code",
      "execution_count": null,
      "metadata": {
        "id": "yrdikP85q0kD"
      },
      "outputs": [],
      "source": [
        "#VB\n",
        "\n",
        "# Dropping NaN values because they cause errors in calculatin MAE\n",
        "data_frame = data_frame.dropna(subset=['target'])\n",
        "\n",
        "# Splitting data, dropping row_id becaues it's not necesseary, and it's 'object' type causing error with pandas\n",
        "#X = data_frame.drop(['target', 'row_id'], axis=1)\n",
        "#y = data_frame[['target']]\n",
        "\n",
        "\n",
        "#X_train, X_test, y_train, y_test = train_test_split(X, y, test_size=0.1,)\n"
      ]
    },
    {
      "cell_type": "code",
      "execution_count": null,
      "metadata": {
        "id": "_H5FDS-Q_6yK"
      },
      "outputs": [],
      "source": [
        "\n",
        "\n",
        "\n",
        "#VB\n",
        "# Storing hyperparameters and MAE score, will have better system for it in future\n",
        "#model_params = []\n",
        "#model_mae = []"
      ]
    },
    {
      "cell_type": "code",
      "execution_count": null,
      "metadata": {
        "id": "LXWEvIACAf35"
      },
      "outputs": [],
      "source": [
        "#VB\n",
        "# Using LGBM framework for training model\n",
        "#from lightgbm import LGBMRegressor\n",
        "#params={'n_estimators': 300,\n",
        " #       'learning_rate': 0.09,\n",
        "  #      'max_depth': 8,\n",
        "   #     'num_leaves': 25,\n",
        "    #    }\n",
        "\n",
        "#model=LGBMRegressor(**params, random_state=123, device='cpu')\n",
        "#model.fit(X_train, y_train)"
      ]
    },
    {
      "cell_type": "code",
      "execution_count": null,
      "metadata": {
        "id": "Q-Zxg8quA6Q9"
      },
      "outputs": [],
      "source": [
        "#VB\n",
        "# Get predictions of test set\n",
        "#pred_LGB=model.predict(X_test)\n",
        "\n",
        "# Calculate the mean absolute error of the predictions and target\n",
        "#mean_ae = mean_absolute_error(y_test,pred_LGB)\n",
        "#print(\"MAE score of model =\", mean_ae)\n",
        "\n",
        "# Store hyperparameters and score\n",
        "#model_params.append(model)\n",
        "#model_mae.append(mean_ae)"
      ]
    },
    {
      "cell_type": "code",
      "execution_count": null,
      "metadata": {
        "id": "GNyWU0TDHlmm"
      },
      "outputs": [],
      "source": [
        "#VB\n",
        "#print(model_params, model_mae)"
      ]
    },
    {
      "cell_type": "code",
      "source": [
        "\n",
        "!pip install keras_tuner"
      ],
      "metadata": {
        "colab": {
          "base_uri": "https://localhost:8080/"
        },
        "id": "CB5aKppn-0mo",
        "outputId": "8e03a805-f740-4cc1-cd3e-6347886d91b4"
      },
      "execution_count": null,
      "outputs": [
        {
          "output_type": "stream",
          "name": "stdout",
          "text": [
            "Collecting keras_tuner\n",
            "  Downloading keras_tuner-1.4.6-py3-none-any.whl (128 kB)\n",
            "\u001b[2K     \u001b[90m━━━━━━━━━━━━━━━━━━━━━━━━━━━━━━━━━━━━━━━━\u001b[0m \u001b[32m128.9/128.9 kB\u001b[0m \u001b[31m2.4 MB/s\u001b[0m eta \u001b[36m0:00:00\u001b[0m\n",
            "\u001b[?25hRequirement already satisfied: keras in /usr/local/lib/python3.10/dist-packages (from keras_tuner) (2.14.0)\n",
            "Requirement already satisfied: packaging in /usr/local/lib/python3.10/dist-packages (from keras_tuner) (23.2)\n",
            "Requirement already satisfied: requests in /usr/local/lib/python3.10/dist-packages (from keras_tuner) (2.31.0)\n",
            "Collecting kt-legacy (from keras_tuner)\n",
            "  Downloading kt_legacy-1.0.5-py3-none-any.whl (9.6 kB)\n",
            "Requirement already satisfied: charset-normalizer<4,>=2 in /usr/local/lib/python3.10/dist-packages (from requests->keras_tuner) (3.3.2)\n",
            "Requirement already satisfied: idna<4,>=2.5 in /usr/local/lib/python3.10/dist-packages (from requests->keras_tuner) (3.4)\n",
            "Requirement already satisfied: urllib3<3,>=1.21.1 in /usr/local/lib/python3.10/dist-packages (from requests->keras_tuner) (2.0.7)\n",
            "Requirement already satisfied: certifi>=2017.4.17 in /usr/local/lib/python3.10/dist-packages (from requests->keras_tuner) (2023.7.22)\n",
            "Installing collected packages: kt-legacy, keras_tuner\n",
            "Successfully installed keras_tuner-1.4.6 kt-legacy-1.0.5\n"
          ]
        }
      ]
    },
    {
      "cell_type": "code",
      "source": [
        "\n",
        "#There are a lot of Nan values in the dataset (especially in far_price, near_price), which causes problems with the training\n",
        "print(data_frame.isnull().sum())\n"
      ],
      "metadata": {
        "colab": {
          "base_uri": "https://localhost:8080/"
        },
        "id": "I-qYhTPQYqxb",
        "outputId": "716e20b5-e006-4fff-977a-186373356165"
      },
      "execution_count": null,
      "outputs": [
        {
          "output_type": "stream",
          "name": "stdout",
          "text": [
            "stock_id                         0\n",
            "date_id                          0\n",
            "seconds_in_bucket                0\n",
            "imbalance_size                 132\n",
            "imbalance_buy_sell_flag          0\n",
            "reference_price                132\n",
            "matched_size                   132\n",
            "far_price                  2894254\n",
            "near_price                 2857092\n",
            "bid_price                      132\n",
            "bid_size                         0\n",
            "ask_price                      132\n",
            "ask_size                         0\n",
            "wap                            132\n",
            "target                           0\n",
            "time_id                          0\n",
            "row_id                           0\n",
            "dtype: int64\n"
          ]
        }
      ]
    },
    {
      "cell_type": "code",
      "source": [
        "#delete the rows where these features are NaN (only 132 each which is not a big loss, considering that the number of all rows are 2894254)\n",
        "data_frame = data_frame.dropna(subset=['imbalance_size', 'reference_price', 'matched_size', 'bid_price', 'ask_price', 'wap'])"
      ],
      "metadata": {
        "id": "2Yix8pb5Yp9n"
      },
      "execution_count": null,
      "outputs": []
    },
    {
      "cell_type": "code",
      "source": [
        "#now far_price and near_price are the only features which have NaN values\n",
        "#I am going to predict the missing values with Linear Regression (later can be improved)\n",
        "\n",
        "from sklearn.linear_model import LinearRegression\n",
        "from sklearn.metrics import mean_squared_error\n",
        "\n",
        "data_frame_temp = data_frame.dropna(subset=['far_price', 'near_price'])\n",
        "\n",
        "# Split the data into features (X) and target variable (y)\n",
        "X_temp = data_frame_temp.drop(['far_price', 'near_price'], axis=1)\n",
        "y_far = data_frame_temp[['far_price']]\n",
        "y_near = data_frame_temp[['near_price']]\n",
        "\n",
        "# Split the data into training and testing sets\n",
        "X_far_train, X_far_test, y_far_train, y_far_test = train_test_split(X_temp, y_far, test_size=0.2, random_state=42)\n",
        "X_near_train, X_near_test, y_near_train, y_near_test = train_test_split(X_temp, y_near, test_size=0.2, random_state=42)\n",
        "\n",
        "# Train the Linear Regression model, later can be improved\n",
        "model_far = LinearRegression()\n",
        "model_far.fit(X_far_train, y_far_train)\n",
        "\n",
        "model_near = LinearRegression()\n",
        "model_near.fit(X_near_train, y_near_train)\n",
        "\n",
        "# Make predictions\n",
        "y_far_pred = model_far.predict(X_far_test)\n",
        "y_near_pred = model_near.predict(X_near_test)\n",
        "\n",
        "# Evaluate the model\n",
        "mse_far = mean_squared_error(y_far_test, y_far_pred)\n",
        "mse_near = mean_squared_error(y_near_test, y_near_pred)\n",
        "\n",
        "print(f'Mean Squared Error (far_price): {mse_far}')\n",
        "print(f'Mean Squared Error (near_price): {mse_near}')"
      ],
      "metadata": {
        "colab": {
          "base_uri": "https://localhost:8080/"
        },
        "id": "ciC_5dph_ec0",
        "outputId": "c309c1be-9bca-435a-98a9-036cd922030b"
      },
      "execution_count": null,
      "outputs": [
        {
          "output_type": "stream",
          "name": "stdout",
          "text": [
            "Mean Squared Error (far_price): 0.7977772705070444\n",
            "Mean Squared Error (near_price): 5.592018645611001e-05\n"
          ]
        }
      ]
    },
    {
      "cell_type": "code",
      "source": [
        "rows_with_missing_values_far = data_frame[data_frame['far_price'].isnull()]\n",
        "rows_with_missing_values_near = data_frame[data_frame['near_price'].isnull()]\n",
        "\n",
        "rows_with_missing_values_far = rows_with_missing_values_far.drop(['far_price', 'near_price'], axis=1)\n",
        "rows_with_missing_values_near = rows_with_missing_values_near.drop(['far_price', 'near_price'], axis=1)\n",
        "\n",
        "# Use the trained model to predict missing values\n",
        "predicted_far_values = model_far.predict(rows_with_missing_values_far)\n",
        "predicted_near_values = model_near.predict(rows_with_missing_values_near)\n",
        "\n",
        "# Fill in the missing values in the original DataFrame\n",
        "data_frame.loc[data_frame['far_price'].isnull(), 'far_price'] = predicted_far_values\n",
        "data_frame.loc[data_frame['near_price'].isnull(), 'near_price'] = predicted_near_values\n",
        "\n",
        "print(data_frame.isnull().sum())"
      ],
      "metadata": {
        "colab": {
          "base_uri": "https://localhost:8080/"
        },
        "id": "NHZNR23_DFeH",
        "outputId": "b268de8c-f2c0-4284-f36e-af78fbe83ea9"
      },
      "execution_count": null,
      "outputs": [
        {
          "output_type": "stream",
          "name": "stdout",
          "text": [
            "stock_id                   0\n",
            "date_id                    0\n",
            "seconds_in_bucket          0\n",
            "imbalance_size             0\n",
            "imbalance_buy_sell_flag    0\n",
            "reference_price            0\n",
            "matched_size               0\n",
            "far_price                  0\n",
            "near_price                 0\n",
            "bid_price                  0\n",
            "bid_size                   0\n",
            "ask_price                  0\n",
            "ask_size                   0\n",
            "wap                        0\n",
            "target                     0\n",
            "time_id                    0\n",
            "row_id                     0\n",
            "dtype: int64\n"
          ]
        }
      ]
    },
    {
      "cell_type": "code",
      "source": [
        "# Splitting data, dropping row_id becaues it's not necesseary, and it's 'object' type causing error with pandas\n",
        "X = data_frame.drop(['target', 'row_id'], axis=1)\n",
        "y = data_frame[['target']]\n",
        "\n",
        "X_train, X_test, y_train, y_test = train_test_split(X, y, test_size=0.2, random_state=42)\n",
        "X_train, X_val, y_train, y_val = train_test_split(X_train, y_train, test_size=0.1, random_state=42)"
      ],
      "metadata": {
        "id": "2rg11yZh6spM"
      },
      "execution_count": null,
      "outputs": []
    },
    {
      "cell_type": "code",
      "source": [
        "import tensorflow as tf\n",
        "from tensorflow import keras\n",
        "from tensorflow.keras import layers\n",
        "from kerastuner.tuners import Hyperband\n",
        "\n",
        "#predicting with Hyperband\n",
        "\n",
        "def build_model(hp):\n",
        "    model_new = keras.Sequential()\n",
        "\n",
        "\n",
        "\n",
        "     # Input layer\n",
        "    model_new.add(layers.Flatten(input_shape=(X_train.shape[1],)))\n",
        "\n",
        "    # Hidden layers\n",
        "    for i in range(hp.Int('num_layers', min_value=2, max_value=4, step=1)):\n",
        "        model_new.add(layers.Dense(units=hp.Int('units_' + str(i), min_value=32, max_value=512, step=32), activation='relu'))\n",
        "        model_new.add(layers.Dropout(rate=hp.Float('dropout_' + str(i), min_value=0.0, max_value=0.5, step=0.1)))\n",
        "\n",
        "    # Output layer\n",
        "    model_new.add(layers.Dense(1, activation='linear'))\n",
        "\n",
        "\n",
        "    model_new.compile(optimizer=keras.optimizers.Adam(hp.Choice('learning_rate', values=[1e-2, 1e-3, 1e-4])),\n",
        "                  loss='mean_squared_error',\n",
        "                  metrics=['mean_absolute_error'])\n",
        "\n",
        "    return model_new\n",
        "\n",
        "\n",
        "input_shape = X_train.shape[1]\n",
        "output_classes = 1\n",
        "\n",
        "tuner = Hyperband(\n",
        "    build_model,\n",
        "    max_epochs=10,\n",
        "    factor=3,\n",
        "    objective='val_mean_absolute_error',\n",
        "    directory='tuning_directory',\n",
        "    project_name='project'\n",
        ")\n",
        "\n",
        "tuner.search(X_train, y_train, epochs=10, validation_data=(X_val, y_val))\n",
        "\n",
        "best_model = tuner.get_best_models(num_models=1)[0]\n",
        "best_hyperparameters = tuner.get_best_hyperparameters(num_trials=1)[0]\n"
      ],
      "metadata": {
        "colab": {
          "base_uri": "https://localhost:8080/"
        },
        "id": "Vdpg_A1fA7-k",
        "outputId": "a6bd1e56-5531-4c96-dd7a-2622e1eb26cc"
      },
      "execution_count": null,
      "outputs": [
        {
          "output_type": "stream",
          "name": "stdout",
          "text": [
            "Trial 4 Complete [00h 11m 24s]\n",
            "val_mean_absolute_error: 6.402994155883789\n",
            "\n",
            "Best val_mean_absolute_error So Far: 6.402977466583252\n",
            "Total elapsed time: 01h 28m 29s\n",
            "\n",
            "Search: Running Trial #5\n",
            "\n",
            "Value             |Best Value So Far |Hyperparameter\n",
            "3                 |4                 |num_layers\n",
            "128               |352               |units_0\n",
            "0.3               |0.4               |dropout_0\n",
            "32                |480               |units_1\n",
            "0.4               |0.1               |dropout_1\n",
            "0.01              |0.001             |learning_rate\n",
            "416               |32                |units_2\n",
            "0.2               |0                 |dropout_2\n",
            "384               |32                |units_3\n",
            "0.2               |0                 |dropout_3\n",
            "2                 |2                 |tuner/epochs\n",
            "0                 |0                 |tuner/initial_epoch\n",
            "2                 |2                 |tuner/bracket\n",
            "0                 |0                 |tuner/round\n",
            "\n",
            "Epoch 1/2\n",
            " 15631/117850 [==>...........................] - ETA: 4:42 - loss: 537610289152.0000 - mean_absolute_error: 2849.5295"
          ]
        }
      ]
    },
    {
      "cell_type": "code",
      "source": [
        "best_model.fit(X_train, y_train)\n",
        "\n",
        "# Get predictions of test set\n",
        "pred_LGB=best_model.predict(X_test)\n",
        "\n",
        "# Calculate the mean absolute error of the predictions and target\n",
        "mean_ae = mean_absolute_error(y_test,pred_LGB)\n",
        "print(\"MAE score of model =\", mean_ae)"
      ],
      "metadata": {
        "id": "7lson0eDBREz"
      },
      "execution_count": null,
      "outputs": []
    }
  ],
  "metadata": {
    "colab": {
      "provenance": [],
      "toc_visible": true,
      "include_colab_link": true
    },
    "kernelspec": {
      "display_name": "Python 3",
      "name": "python3"
    },
    "language_info": {
      "name": "python"
    }
  },
  "nbformat": 4,
  "nbformat_minor": 0
}